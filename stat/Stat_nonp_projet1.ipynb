{
  "nbformat": 4,
  "nbformat_minor": 0,
  "metadata": {
    "colab": {
      "provenance": []
    },
    "kernelspec": {
      "name": "python3",
      "display_name": "Python 3"
    },
    "language_info": {
      "name": "python"
    }
  },
  "cells": [
    {
      "cell_type": "markdown",
      "source": [
        "# 1. Un petit exercice: la chaleur latente de fusion de la glace\n"
      ],
      "metadata": {
        "id": "WOXYV76wBTk2"
      }
    },
    {
      "cell_type": "code",
      "execution_count": null,
      "metadata": {
        "id": "eil6k_pd-7f5"
      },
      "outputs": [],
      "source": [
        "# Importation des bibliothèques\n",
        "import numpy as np\n",
        "import pandas as pd\n",
        "import matplotlib.pyplot as plt\n",
        "import seaborn as sns\n",
        "from scipy import stats\n"
      ]
    },
    {
      "cell_type": "markdown",
      "source": [
        "**1. Lire les donn ́ees dans R.**"
      ],
      "metadata": {
        "id": "9mjmF1pdCHK7"
      }
    },
    {
      "cell_type": "code",
      "source": [
        "#1. Lecture des données\n",
        "# Méthode A\n",
        "methode_A = np.array([79.98, 80.04, 80.02, 80.04, 80.03, 80.03, 80.04, 79.97, 80.05, 80.03, 80.02, 80.00, 80.02])\n",
        "\n",
        "# Méthode B\n",
        "methode_B = np.array([80.02, 79.94, 79.98, 79.97, 79.97, 80.03, 79.95, 79.97])"
      ],
      "metadata": {
        "id": "PgeEc6nDBhkH"
      },
      "execution_count": null,
      "outputs": []
    },
    {
      "cell_type": "code",
      "source": [
        "# Mise en DataFrame pour faciliter la manipulation\n",
        "data = pd.DataFrame({\n",
        "    'Méthode': ['A']*len(methode_A) + ['B']*len(methode_B),\n",
        "    'Valeur': np.concatenate([methode_A, methode_B])\n",
        "})"
      ],
      "metadata": {
        "id": "-V7S1B36BqLs"
      },
      "execution_count": null,
      "outputs": []
    },
    {
      "cell_type": "code",
      "source": [
        "data.count()"
      ],
      "metadata": {
        "colab": {
          "base_uri": "https://localhost:8080/",
          "height": 147
        },
        "id": "MPNxl15UB4qQ",
        "outputId": "8a657202-d416-4fbf-f603-7733fcba330d"
      },
      "execution_count": null,
      "outputs": [
        {
          "output_type": "execute_result",
          "data": {
            "text/plain": [
              "Méthode    21\n",
              "Valeur     21\n",
              "dtype: int64"
            ],
            "text/html": [
              "<div>\n",
              "<style scoped>\n",
              "    .dataframe tbody tr th:only-of-type {\n",
              "        vertical-align: middle;\n",
              "    }\n",
              "\n",
              "    .dataframe tbody tr th {\n",
              "        vertical-align: top;\n",
              "    }\n",
              "\n",
              "    .dataframe thead th {\n",
              "        text-align: right;\n",
              "    }\n",
              "</style>\n",
              "<table border=\"1\" class=\"dataframe\">\n",
              "  <thead>\n",
              "    <tr style=\"text-align: right;\">\n",
              "      <th></th>\n",
              "      <th>0</th>\n",
              "    </tr>\n",
              "  </thead>\n",
              "  <tbody>\n",
              "    <tr>\n",
              "      <th>Méthode</th>\n",
              "      <td>21</td>\n",
              "    </tr>\n",
              "    <tr>\n",
              "      <th>Valeur</th>\n",
              "      <td>21</td>\n",
              "    </tr>\n",
              "  </tbody>\n",
              "</table>\n",
              "</div><br><label><b>dtype:</b> int64</label>"
            ]
          },
          "metadata": {},
          "execution_count": 9
        }
      ]
    },
    {
      "cell_type": "code",
      "source": [
        "data.head()"
      ],
      "metadata": {
        "colab": {
          "base_uri": "https://localhost:8080/",
          "height": 206
        },
        "id": "7nrgLKcZBtrn",
        "outputId": "92a009e2-5229-4113-d549-03b7ac50b607"
      },
      "execution_count": null,
      "outputs": [
        {
          "output_type": "execute_result",
          "data": {
            "text/plain": [
              "  Méthode  Valeur\n",
              "0       A   79.98\n",
              "1       A   80.04\n",
              "2       A   80.02\n",
              "3       A   80.04\n",
              "4       A   80.03"
            ],
            "text/html": [
              "\n",
              "  <div id=\"df-0571523b-4e12-4ccf-a9d0-60afcaeff4be\" class=\"colab-df-container\">\n",
              "    <div>\n",
              "<style scoped>\n",
              "    .dataframe tbody tr th:only-of-type {\n",
              "        vertical-align: middle;\n",
              "    }\n",
              "\n",
              "    .dataframe tbody tr th {\n",
              "        vertical-align: top;\n",
              "    }\n",
              "\n",
              "    .dataframe thead th {\n",
              "        text-align: right;\n",
              "    }\n",
              "</style>\n",
              "<table border=\"1\" class=\"dataframe\">\n",
              "  <thead>\n",
              "    <tr style=\"text-align: right;\">\n",
              "      <th></th>\n",
              "      <th>Méthode</th>\n",
              "      <th>Valeur</th>\n",
              "    </tr>\n",
              "  </thead>\n",
              "  <tbody>\n",
              "    <tr>\n",
              "      <th>0</th>\n",
              "      <td>A</td>\n",
              "      <td>79.98</td>\n",
              "    </tr>\n",
              "    <tr>\n",
              "      <th>1</th>\n",
              "      <td>A</td>\n",
              "      <td>80.04</td>\n",
              "    </tr>\n",
              "    <tr>\n",
              "      <th>2</th>\n",
              "      <td>A</td>\n",
              "      <td>80.02</td>\n",
              "    </tr>\n",
              "    <tr>\n",
              "      <th>3</th>\n",
              "      <td>A</td>\n",
              "      <td>80.04</td>\n",
              "    </tr>\n",
              "    <tr>\n",
              "      <th>4</th>\n",
              "      <td>A</td>\n",
              "      <td>80.03</td>\n",
              "    </tr>\n",
              "  </tbody>\n",
              "</table>\n",
              "</div>\n",
              "    <div class=\"colab-df-buttons\">\n",
              "\n",
              "  <div class=\"colab-df-container\">\n",
              "    <button class=\"colab-df-convert\" onclick=\"convertToInteractive('df-0571523b-4e12-4ccf-a9d0-60afcaeff4be')\"\n",
              "            title=\"Convert this dataframe to an interactive table.\"\n",
              "            style=\"display:none;\">\n",
              "\n",
              "  <svg xmlns=\"http://www.w3.org/2000/svg\" height=\"24px\" viewBox=\"0 -960 960 960\">\n",
              "    <path d=\"M120-120v-720h720v720H120Zm60-500h600v-160H180v160Zm220 220h160v-160H400v160Zm0 220h160v-160H400v160ZM180-400h160v-160H180v160Zm440 0h160v-160H620v160ZM180-180h160v-160H180v160Zm440 0h160v-160H620v160Z\"/>\n",
              "  </svg>\n",
              "    </button>\n",
              "\n",
              "  <style>\n",
              "    .colab-df-container {\n",
              "      display:flex;\n",
              "      gap: 12px;\n",
              "    }\n",
              "\n",
              "    .colab-df-convert {\n",
              "      background-color: #E8F0FE;\n",
              "      border: none;\n",
              "      border-radius: 50%;\n",
              "      cursor: pointer;\n",
              "      display: none;\n",
              "      fill: #1967D2;\n",
              "      height: 32px;\n",
              "      padding: 0 0 0 0;\n",
              "      width: 32px;\n",
              "    }\n",
              "\n",
              "    .colab-df-convert:hover {\n",
              "      background-color: #E2EBFA;\n",
              "      box-shadow: 0px 1px 2px rgba(60, 64, 67, 0.3), 0px 1px 3px 1px rgba(60, 64, 67, 0.15);\n",
              "      fill: #174EA6;\n",
              "    }\n",
              "\n",
              "    .colab-df-buttons div {\n",
              "      margin-bottom: 4px;\n",
              "    }\n",
              "\n",
              "    [theme=dark] .colab-df-convert {\n",
              "      background-color: #3B4455;\n",
              "      fill: #D2E3FC;\n",
              "    }\n",
              "\n",
              "    [theme=dark] .colab-df-convert:hover {\n",
              "      background-color: #434B5C;\n",
              "      box-shadow: 0px 1px 3px 1px rgba(0, 0, 0, 0.15);\n",
              "      filter: drop-shadow(0px 1px 2px rgba(0, 0, 0, 0.3));\n",
              "      fill: #FFFFFF;\n",
              "    }\n",
              "  </style>\n",
              "\n",
              "    <script>\n",
              "      const buttonEl =\n",
              "        document.querySelector('#df-0571523b-4e12-4ccf-a9d0-60afcaeff4be button.colab-df-convert');\n",
              "      buttonEl.style.display =\n",
              "        google.colab.kernel.accessAllowed ? 'block' : 'none';\n",
              "\n",
              "      async function convertToInteractive(key) {\n",
              "        const element = document.querySelector('#df-0571523b-4e12-4ccf-a9d0-60afcaeff4be');\n",
              "        const dataTable =\n",
              "          await google.colab.kernel.invokeFunction('convertToInteractive',\n",
              "                                                    [key], {});\n",
              "        if (!dataTable) return;\n",
              "\n",
              "        const docLinkHtml = 'Like what you see? Visit the ' +\n",
              "          '<a target=\"_blank\" href=https://colab.research.google.com/notebooks/data_table.ipynb>data table notebook</a>'\n",
              "          + ' to learn more about interactive tables.';\n",
              "        element.innerHTML = '';\n",
              "        dataTable['output_type'] = 'display_data';\n",
              "        await google.colab.output.renderOutput(dataTable, element);\n",
              "        const docLink = document.createElement('div');\n",
              "        docLink.innerHTML = docLinkHtml;\n",
              "        element.appendChild(docLink);\n",
              "      }\n",
              "    </script>\n",
              "  </div>\n",
              "\n",
              "\n",
              "    <div id=\"df-ab35663b-b944-46a6-9b64-86116e89a697\">\n",
              "      <button class=\"colab-df-quickchart\" onclick=\"quickchart('df-ab35663b-b944-46a6-9b64-86116e89a697')\"\n",
              "                title=\"Suggest charts\"\n",
              "                style=\"display:none;\">\n",
              "\n",
              "<svg xmlns=\"http://www.w3.org/2000/svg\" height=\"24px\"viewBox=\"0 0 24 24\"\n",
              "     width=\"24px\">\n",
              "    <g>\n",
              "        <path d=\"M19 3H5c-1.1 0-2 .9-2 2v14c0 1.1.9 2 2 2h14c1.1 0 2-.9 2-2V5c0-1.1-.9-2-2-2zM9 17H7v-7h2v7zm4 0h-2V7h2v10zm4 0h-2v-4h2v4z\"/>\n",
              "    </g>\n",
              "</svg>\n",
              "      </button>\n",
              "\n",
              "<style>\n",
              "  .colab-df-quickchart {\n",
              "      --bg-color: #E8F0FE;\n",
              "      --fill-color: #1967D2;\n",
              "      --hover-bg-color: #E2EBFA;\n",
              "      --hover-fill-color: #174EA6;\n",
              "      --disabled-fill-color: #AAA;\n",
              "      --disabled-bg-color: #DDD;\n",
              "  }\n",
              "\n",
              "  [theme=dark] .colab-df-quickchart {\n",
              "      --bg-color: #3B4455;\n",
              "      --fill-color: #D2E3FC;\n",
              "      --hover-bg-color: #434B5C;\n",
              "      --hover-fill-color: #FFFFFF;\n",
              "      --disabled-bg-color: #3B4455;\n",
              "      --disabled-fill-color: #666;\n",
              "  }\n",
              "\n",
              "  .colab-df-quickchart {\n",
              "    background-color: var(--bg-color);\n",
              "    border: none;\n",
              "    border-radius: 50%;\n",
              "    cursor: pointer;\n",
              "    display: none;\n",
              "    fill: var(--fill-color);\n",
              "    height: 32px;\n",
              "    padding: 0;\n",
              "    width: 32px;\n",
              "  }\n",
              "\n",
              "  .colab-df-quickchart:hover {\n",
              "    background-color: var(--hover-bg-color);\n",
              "    box-shadow: 0 1px 2px rgba(60, 64, 67, 0.3), 0 1px 3px 1px rgba(60, 64, 67, 0.15);\n",
              "    fill: var(--button-hover-fill-color);\n",
              "  }\n",
              "\n",
              "  .colab-df-quickchart-complete:disabled,\n",
              "  .colab-df-quickchart-complete:disabled:hover {\n",
              "    background-color: var(--disabled-bg-color);\n",
              "    fill: var(--disabled-fill-color);\n",
              "    box-shadow: none;\n",
              "  }\n",
              "\n",
              "  .colab-df-spinner {\n",
              "    border: 2px solid var(--fill-color);\n",
              "    border-color: transparent;\n",
              "    border-bottom-color: var(--fill-color);\n",
              "    animation:\n",
              "      spin 1s steps(1) infinite;\n",
              "  }\n",
              "\n",
              "  @keyframes spin {\n",
              "    0% {\n",
              "      border-color: transparent;\n",
              "      border-bottom-color: var(--fill-color);\n",
              "      border-left-color: var(--fill-color);\n",
              "    }\n",
              "    20% {\n",
              "      border-color: transparent;\n",
              "      border-left-color: var(--fill-color);\n",
              "      border-top-color: var(--fill-color);\n",
              "    }\n",
              "    30% {\n",
              "      border-color: transparent;\n",
              "      border-left-color: var(--fill-color);\n",
              "      border-top-color: var(--fill-color);\n",
              "      border-right-color: var(--fill-color);\n",
              "    }\n",
              "    40% {\n",
              "      border-color: transparent;\n",
              "      border-right-color: var(--fill-color);\n",
              "      border-top-color: var(--fill-color);\n",
              "    }\n",
              "    60% {\n",
              "      border-color: transparent;\n",
              "      border-right-color: var(--fill-color);\n",
              "    }\n",
              "    80% {\n",
              "      border-color: transparent;\n",
              "      border-right-color: var(--fill-color);\n",
              "      border-bottom-color: var(--fill-color);\n",
              "    }\n",
              "    90% {\n",
              "      border-color: transparent;\n",
              "      border-bottom-color: var(--fill-color);\n",
              "    }\n",
              "  }\n",
              "</style>\n",
              "\n",
              "      <script>\n",
              "        async function quickchart(key) {\n",
              "          const quickchartButtonEl =\n",
              "            document.querySelector('#' + key + ' button');\n",
              "          quickchartButtonEl.disabled = true;  // To prevent multiple clicks.\n",
              "          quickchartButtonEl.classList.add('colab-df-spinner');\n",
              "          try {\n",
              "            const charts = await google.colab.kernel.invokeFunction(\n",
              "                'suggestCharts', [key], {});\n",
              "          } catch (error) {\n",
              "            console.error('Error during call to suggestCharts:', error);\n",
              "          }\n",
              "          quickchartButtonEl.classList.remove('colab-df-spinner');\n",
              "          quickchartButtonEl.classList.add('colab-df-quickchart-complete');\n",
              "        }\n",
              "        (() => {\n",
              "          let quickchartButtonEl =\n",
              "            document.querySelector('#df-ab35663b-b944-46a6-9b64-86116e89a697 button');\n",
              "          quickchartButtonEl.style.display =\n",
              "            google.colab.kernel.accessAllowed ? 'block' : 'none';\n",
              "        })();\n",
              "      </script>\n",
              "    </div>\n",
              "\n",
              "    </div>\n",
              "  </div>\n"
            ],
            "application/vnd.google.colaboratory.intrinsic+json": {
              "type": "dataframe",
              "variable_name": "data",
              "summary": "{\n  \"name\": \"data\",\n  \"rows\": 21,\n  \"fields\": [\n    {\n      \"column\": \"M\\u00e9thode\",\n      \"properties\": {\n        \"dtype\": \"category\",\n        \"num_unique_values\": 2,\n        \"samples\": [\n          \"B\",\n          \"A\"\n        ],\n        \"semantic_type\": \"\",\n        \"description\": \"\"\n      }\n    },\n    {\n      \"column\": \"Valeur\",\n      \"properties\": {\n        \"dtype\": \"number\",\n        \"std\": 0.033558761541369664,\n        \"min\": 79.94,\n        \"max\": 80.05,\n        \"num_unique_values\": 9,\n        \"samples\": [\n          79.94,\n          80.04\n        ],\n        \"semantic_type\": \"\",\n        \"description\": \"\"\n      }\n    }\n  ]\n}"
            }
          },
          "metadata": {},
          "execution_count": 7
        }
      ]
    },
    {
      "cell_type": "markdown",
      "source": [
        "\n",
        "\n",
        "---\n",
        "\n"
      ],
      "metadata": {
        "id": "-FPR_PZ9Ey5P"
      }
    },
    {
      "cell_type": "markdown",
      "source": [
        "**2. Comparer les distributions `a l’aide de boxplot()(s). Conclusions ?**"
      ],
      "metadata": {
        "id": "Q-8U9CdNCJYE"
      }
    },
    {
      "cell_type": "code",
      "source": [
        "#2. Comparaison des distributions par Boxplot\n",
        "plt.figure(figsize=(8, 5))\n",
        "sns.boxplot(x='Méthode', y='Valeur', data=data, palette='Set2')\n",
        "plt.title('Comparaison des distributions de la chaleur latente', fontsize=14)\n",
        "plt.grid(True)\n",
        "plt.show()"
      ],
      "metadata": {
        "colab": {
          "base_uri": "https://localhost:8080/",
          "height": 579
        },
        "id": "t6jZNr8tCCso",
        "outputId": "db574c41-c0a3-44ba-dc65-62090c182d6b"
      },
      "execution_count": null,
      "outputs": [
        {
          "output_type": "stream",
          "name": "stderr",
          "text": [
            "<ipython-input-10-ac084e73de9e>:3: FutureWarning: \n",
            "\n",
            "Passing `palette` without assigning `hue` is deprecated and will be removed in v0.14.0. Assign the `x` variable to `hue` and set `legend=False` for the same effect.\n",
            "\n",
            "  sns.boxplot(x='Méthode', y='Valeur', data=data, palette='Set2')\n"
          ]
        },
        {
          "output_type": "display_data",
          "data": {
            "text/plain": [
              "<Figure size 800x500 with 1 Axes>"
            ],
            "image/png": "[encoded data removed]"
          },
          "metadata": {}
        }
      ]
    },
    {
      "cell_type": "markdown",
      "source": [
        "**Conclusions visuelles :**\n",
        "* On observe que les deux distributions sont proches.\n",
        "* La médiane de A est légèrement plus élevée que celle de B.\n",
        "\n",
        "* La variabilité (dispersion) semble plus grande dans A car il y a plus d'outliers.\n",
        "\n",
        "* La méthode B semble plus stable (moins d'outliers).\n",
        "\n",
        "Donc visuellement :Les deux distributions sont proches, mais A présente plus de dispersion."
      ],
      "metadata": {
        "id": "avX522XxCVEq"
      }
    },
    {
      "cell_type": "markdown",
      "source": [
        "**Un boxplot n'indique pas directement si la moyenne est différente ou si la différence est significative → Pour cela, il faut vraiment faire les tests statistiques**`(t.test()`, `var.test()`, `wilcox.test())`."
      ],
      "metadata": {
        "id": "cGNnTdV8Dvnc"
      }
    },
    {
      "cell_type": "markdown",
      "source": [
        "\n",
        "\n",
        "---\n",
        "\n"
      ],
      "metadata": {
        "id": "Qh_nedxnEw7J"
      }
    },
    {
      "cell_type": "markdown",
      "source": [
        "**3. Tester pour l’ ́egalit ́e des moyennes avec t.test().Quelles sont les\n",
        "hypoth`eses de ce test ? Conclusions ?**"
      ],
      "metadata": {
        "id": "a0tpCkKOEFhA"
      }
    },
    {
      "cell_type": "code",
      "source": [
        "#3. Test d'égalité des moyennes (t-test)\n",
        "# Test de Student sans hypothèse d'égalité de variance (Welch's t-test)\n",
        "#  Hypothèses :\n",
        "# H0 : Les moyennes des deux méthodes sont égales.\n",
        "# H1 : Les moyennes sont différentes.\n",
        "t_stat, p_val = stats.ttest_ind(methode_A, methode_B, equal_var=False)\n",
        "\n",
        "print(f\"T-statistic: {t_stat:.4f}, P-value: {p_val:.4f}\")\n"
      ],
      "metadata": {
        "colab": {
          "base_uri": "https://localhost:8080/"
        },
        "id": "0fnKQJQCEK2-",
        "outputId": "245a33c3-0423-4630-b00b-6fa89269ef40"
      },
      "execution_count": null,
      "outputs": [
        {
          "output_type": "stream",
          "name": "stdout",
          "text": [
            "T-statistic: 3.2499, P-value: 0.0069\n"
          ]
        }
      ]
    },
    {
      "cell_type": "markdown",
      "source": [
        "**Conclusion : p-value < 0.05, on rejette H0 → les moyennes sont différentes.**"
      ],
      "metadata": {
        "id": "vWw9wZulEYuZ"
      }
    },
    {
      "cell_type": "markdown",
      "source": [
        "\n",
        "\n",
        "---\n",
        "\n"
      ],
      "metadata": {
        "id": "nKaSYcl-Eu7f"
      }
    },
    {
      "cell_type": "markdown",
      "source": [
        "**4. Tester l’hypoth`ese d’ ́egalit ́e des variances `a l’aide de var.test().\n",
        "Conclusions ?**"
      ],
      "metadata": {
        "id": "dcgZi5voEpUi"
      }
    },
    {
      "cell_type": "code",
      "source": [
        "#4. Test d'égalité des variances (F-test)\n",
        "# Hypothèses :\n",
        "# H0 : Variances égales.\n",
        "# H1 : Variances différentes.\n",
        "f_stat, p_var = stats.levene(methode_A, methode_B)\n",
        "\n",
        "print(f\"F-statistic: {f_stat:.4f}, P-value: {p_var:.4f}\")"
      ],
      "metadata": {
        "colab": {
          "base_uri": "https://localhost:8080/"
        },
        "id": "qYwxNxy9Ettu",
        "outputId": "4d7594a8-547e-458a-e100-3a77773a6fae"
      },
      "execution_count": null,
      "outputs": [
        {
          "output_type": "stream",
          "name": "stdout",
          "text": [
            "F-statistic: 0.2158, P-value: 0.6476\n"
          ]
        }
      ]
    },
    {
      "cell_type": "markdown",
      "source": [
        "**p-value > 0.05 , on peut supposer que les variances sont égales.**"
      ],
      "metadata": {
        "id": "hDvs5-blFIpK"
      }
    },
    {
      "cell_type": "markdown",
      "source": [
        "\n",
        "\n",
        "---\n",
        "\n"
      ],
      "metadata": {
        "id": "KviQaLnnFY2A"
      }
    },
    {
      "cell_type": "markdown",
      "source": [
        "**5. Appliquer un t-test classique qui suppose l’ ́egalit ́e des variances. Con-\n",
        "clusions ?**"
      ],
      "metadata": {
        "id": "q-hc-AqyFZz5"
      }
    },
    {
      "cell_type": "code",
      "source": [
        "#5. t-test classique sous hypothèse d'égalité de variance\n",
        "# t-test classique (equal_var=True)\n",
        "#  Hypothèses :\n",
        "# H0 : Les moyennes des deux méthodes sont égales.\n",
        "# H1 : Les moyennes sont différentes.\n",
        "t_stat_classic, p_val_classic = stats.ttest_ind(methode_A, methode_B, equal_var=True)\n",
        "\n",
        "print(f\"T-statistic (classique): {t_stat_classic:.4f}, P-value: {p_val_classic:.4f}\")\n",
        "\n"
      ],
      "metadata": {
        "colab": {
          "base_uri": "https://localhost:8080/"
        },
        "id": "6D3fLb74Fd78",
        "outputId": "9624f4b7-ccfc-4359-ed46-0fb9fb97a5d8"
      },
      "execution_count": null,
      "outputs": [
        {
          "output_type": "stream",
          "name": "stdout",
          "text": [
            "T-statistic (classique): 3.4722, P-value: 0.0026\n"
          ]
        }
      ]
    },
    {
      "cell_type": "markdown",
      "source": [
        "**Conclusion : p-value < 0.05 ➔ on rejette H₀ ➔ les moyennes sont significativement différentes.**"
      ],
      "metadata": {
        "id": "UrpNNM_hGzdE"
      }
    },
    {
      "cell_type": "markdown",
      "source": [
        "\n",
        "\n",
        "---\n",
        "\n"
      ],
      "metadata": {
        "id": "JUTLjCqCHD9M"
      }
    },
    {
      "cell_type": "markdown",
      "source": [
        "**6. Tous les tests ci-dessus supposent la normalit ́e des deux  ́echantillons.\n",
        "Appliquer un test de rang sign ́e, wilcox.test(). Quelles sont les hypoth`eses\n",
        "de ce test ? Conclusions ?**"
      ],
      "metadata": {
        "id": "Bik63EIfHE3B"
      }
    },
    {
      "cell_type": "code",
      "source": [
        "# 6. Test de Wilcoxon (test non paramétrique)\n",
        "# Comme les échantillons sont indépendants : Mann-Whitney U Test\n",
        "u_stat, p_wilcox = stats.mannwhitneyu(methode_A, methode_B, alternative='two-sided')\n",
        "\n",
        "print(f\"U-statistic: {u_stat:.4f}, P-value: {p_wilcox:.4f}\")\n",
        "\n",
        "# Hypothèses :\n",
        "# H0 : Les deux distributions sont identiques.\n",
        "# H1 : Les distributions sont différentes."
      ],
      "metadata": {
        "colab": {
          "base_uri": "https://localhost:8080/"
        },
        "id": "1pq16jIfHOJ9",
        "outputId": "4ac877f7-2b6b-4fac-b071-6473b3500c06"
      },
      "execution_count": null,
      "outputs": [
        {
          "output_type": "stream",
          "name": "stdout",
          "text": [
            "U-statistic: 89.0000, P-value: 0.0075\n"
          ]
        }
      ]
    },
    {
      "cell_type": "markdown",
      "source": [
        "**Conclusion : p-value < 0.05 → distributions différentes.**"
      ],
      "metadata": {
        "id": "oDeezjr-HWzw"
      }
    },
    {
      "cell_type": "markdown",
      "source": [
        "\n",
        "\n",
        "---\n",
        "\n"
      ],
      "metadata": {
        "id": "JYZ20vWqHbgb"
      }
    },
    {
      "cell_type": "markdown",
      "source": [
        "**7. Tester la normalit ́e des donn ́ees avec qqplot() et des tests appropri ́es\n",
        "(Shapiro-Wilk, Kolmogorov). Conclusions ?**"
      ],
      "metadata": {
        "id": "wwTKRqj1HchK"
      }
    },
    {
      "cell_type": "code",
      "source": [
        "#7. Test de normalité (QQPlot, Shapiro-Wilk, Kolmogorov-Smirnov)\n",
        "# QQ-Plot\n",
        "import statsmodels.api as sm\n",
        "\n",
        "fig, ax = plt.subplots(1, 2, figsize=(12,5))\n",
        "\n",
        "# Méthode A\n",
        "sm.qqplot(methode_A, line='s', ax=ax[0])\n",
        "ax[0].set_title('QQ-plot Méthode A')\n",
        "\n",
        "# Méthode B\n",
        "sm.qqplot(methode_B, line='s', ax=ax[1])\n",
        "ax[1].set_title('QQ-plot Méthode B')\n",
        "\n",
        "plt.show()\n",
        "#Pour Shapiro-Wilk et Kolmogorov-Smirnov, c'est toujours :\n",
        "\n",
        "#H₀ (hypothèse nulle) :➔ Les données suivent une loi normale.\n",
        "\n",
        "#H₁ (hypothèse alternative) :➔ Les données ne suivent pas une loi normale.\n",
        "\n",
        "# Test de Shapiro-Wilk\n",
        "shapiro_A = stats.shapiro(methode_A)\n",
        "shapiro_B = stats.shapiro(methode_B)\n",
        "\n",
        "print(f\"Shapiro Méthode A: p-value = {shapiro_A.pvalue:.4f}\")\n",
        "print(f\"Shapiro Méthode B: p-value = {shapiro_B.pvalue:.4f}\")\n",
        "\n",
        "# Test de Kolmogorov-Smirnov\n",
        "ks_A = stats.kstest(methode_A, 'norm', args=(np.mean(methode_A), np.std(methode_A)))\n",
        "ks_B = stats.kstest(methode_B, 'norm', args=(np.mean(methode_B), np.std(methode_B)))\n",
        "\n",
        "print(f\"Kolmogorov Méthode A: p-value = {ks_A.pvalue:.4f}\")\n",
        "print(f\"Kolmogorov Méthode B: p-value = {ks_B.pvalue:.4f}\")\n",
        "\n",
        "# 📋 Conclusion :\n",
        "# Si p-value < 0.05, on rejette l'hypothèse de normalité."
      ],
      "metadata": {
        "colab": {
          "base_uri": "https://localhost:8080/",
          "height": 561
        },
        "id": "iw6uGCa2Hg2M",
        "outputId": "03a24973-e468-45ce-e983-ac91d24082bd"
      },
      "execution_count": null,
      "outputs": [
        {
          "output_type": "display_data",
          "data": {
            "text/plain": [
              "<Figure size 1200x500 with 2 Axes>"
            ],
            "image/png": "[encoded data removed]"
          },
          "metadata": {}
        },
        {
          "output_type": "stream",
          "name": "stdout",
          "text": [
            "Shapiro Méthode A: p-value = 0.0553\n",
            "Shapiro Méthode B: p-value = 0.2403\n",
            "Kolmogorov Méthode A: p-value = 0.3072\n",
            "Kolmogorov Méthode B: p-value = 0.6508\n"
          ]
        }
      ]
    },
    {
      "cell_type": "markdown",
      "source": [
        "**Conclusion sur le test de normalité :**\n",
        "D'après les résultats obtenus :\n",
        "\n",
        "* Pour la Méthode A :\n",
        "\n",
        "  * Le test de Shapiro-Wilk donne une p-value de 0.0553, supérieure à 0.05.\n",
        "\n",
        "  * Le test de Kolmogorov-Smirnov donne une p-value de 0.3072, également supérieure à 0.05.\n",
        "\n",
        "* Pour la Méthode B :\n",
        "\n",
        "  * Le test de Shapiro-Wilk donne une p-value de 0.2403, supérieure à 0.05.\n",
        "\n",
        "  * Le test de Kolmogorov-Smirnov donne une p-value de 0.6508, également supérieure à 0.05.\n",
        "\n",
        "**Dans tous les cas, les p-values sont supérieures à 0.05, donc nous ne rejetons pas l'hypothèse nulle.**\n",
        "\n",
        "**Conclusion finale :Il n'y a pas d'évidence statistique pour rejeter la normalité.Les données des deux méthodes peuvent être considérées comme suivant une loi normale.**\n",
        "\n"
      ],
      "metadata": {
        "id": "VIYc0i13Ie3Y"
      }
    }
  ]
}